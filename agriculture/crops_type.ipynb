{
 "cells": [
  {
   "cell_type": "code",
   "execution_count": 1,
   "metadata": {},
   "outputs": [],
   "source": [
    "\n",
    "import pandas as pd\n",
    "import xgboost as xg \n",
    "from sklearn.metrics import classification_report, confusion_matrix, ConfusionMatrixDisplay\n",
    "from sklearn.model_selection import train_test_split, cross_val_score\n",
    "from sklearn.preprocessing import LabelEncoder\n",
    "from sklearn.pipeline import Pipeline\n",
    "from sklearn.base import BaseEstimator, TransformerMixin\n",
    "from sklearn.ensemble import RandomForestClassifier"
   ]
  },
  {
   "cell_type": "code",
   "execution_count": 2,
   "metadata": {},
   "outputs": [
    {
     "data": {
      "text/html": [
       "<div>\n",
       "<style scoped>\n",
       "    .dataframe tbody tr th:only-of-type {\n",
       "        vertical-align: middle;\n",
       "    }\n",
       "\n",
       "    .dataframe tbody tr th {\n",
       "        vertical-align: top;\n",
       "    }\n",
       "\n",
       "    .dataframe thead th {\n",
       "        text-align: right;\n",
       "    }\n",
       "</style>\n",
       "<table border=\"1\" class=\"dataframe\">\n",
       "  <thead>\n",
       "    <tr style=\"text-align: right;\">\n",
       "      <th></th>\n",
       "      <th>N</th>\n",
       "      <th>P</th>\n",
       "      <th>K</th>\n",
       "      <th>temperature</th>\n",
       "      <th>humidity</th>\n",
       "      <th>ph</th>\n",
       "      <th>rainfall</th>\n",
       "      <th>label</th>\n",
       "    </tr>\n",
       "  </thead>\n",
       "  <tbody>\n",
       "    <tr>\n",
       "      <th>0</th>\n",
       "      <td>90</td>\n",
       "      <td>42</td>\n",
       "      <td>43</td>\n",
       "      <td>20</td>\n",
       "      <td>82</td>\n",
       "      <td>6</td>\n",
       "      <td>202</td>\n",
       "      <td>rice</td>\n",
       "    </tr>\n",
       "    <tr>\n",
       "      <th>1</th>\n",
       "      <td>85</td>\n",
       "      <td>58</td>\n",
       "      <td>41</td>\n",
       "      <td>21</td>\n",
       "      <td>80</td>\n",
       "      <td>7</td>\n",
       "      <td>226</td>\n",
       "      <td>rice</td>\n",
       "    </tr>\n",
       "    <tr>\n",
       "      <th>2</th>\n",
       "      <td>60</td>\n",
       "      <td>55</td>\n",
       "      <td>44</td>\n",
       "      <td>23</td>\n",
       "      <td>82</td>\n",
       "      <td>7</td>\n",
       "      <td>263</td>\n",
       "      <td>rice</td>\n",
       "    </tr>\n",
       "    <tr>\n",
       "      <th>3</th>\n",
       "      <td>74</td>\n",
       "      <td>35</td>\n",
       "      <td>40</td>\n",
       "      <td>26</td>\n",
       "      <td>80</td>\n",
       "      <td>6</td>\n",
       "      <td>242</td>\n",
       "      <td>rice</td>\n",
       "    </tr>\n",
       "    <tr>\n",
       "      <th>4</th>\n",
       "      <td>78</td>\n",
       "      <td>42</td>\n",
       "      <td>42</td>\n",
       "      <td>20</td>\n",
       "      <td>81</td>\n",
       "      <td>7</td>\n",
       "      <td>262</td>\n",
       "      <td>rice</td>\n",
       "    </tr>\n",
       "    <tr>\n",
       "      <th>...</th>\n",
       "      <td>...</td>\n",
       "      <td>...</td>\n",
       "      <td>...</td>\n",
       "      <td>...</td>\n",
       "      <td>...</td>\n",
       "      <td>...</td>\n",
       "      <td>...</td>\n",
       "      <td>...</td>\n",
       "    </tr>\n",
       "    <tr>\n",
       "      <th>1692</th>\n",
       "      <td>117</td>\n",
       "      <td>86</td>\n",
       "      <td>48</td>\n",
       "      <td>28</td>\n",
       "      <td>82</td>\n",
       "      <td>6</td>\n",
       "      <td>116</td>\n",
       "      <td>banana</td>\n",
       "    </tr>\n",
       "    <tr>\n",
       "      <th>1693</th>\n",
       "      <td>114</td>\n",
       "      <td>94</td>\n",
       "      <td>53</td>\n",
       "      <td>26</td>\n",
       "      <td>76</td>\n",
       "      <td>6</td>\n",
       "      <td>118</td>\n",
       "      <td>banana</td>\n",
       "    </tr>\n",
       "    <tr>\n",
       "      <th>1694</th>\n",
       "      <td>110</td>\n",
       "      <td>78</td>\n",
       "      <td>50</td>\n",
       "      <td>25</td>\n",
       "      <td>78</td>\n",
       "      <td>5</td>\n",
       "      <td>98</td>\n",
       "      <td>banana</td>\n",
       "    </tr>\n",
       "    <tr>\n",
       "      <th>1695</th>\n",
       "      <td>94</td>\n",
       "      <td>70</td>\n",
       "      <td>48</td>\n",
       "      <td>25</td>\n",
       "      <td>84</td>\n",
       "      <td>6</td>\n",
       "      <td>91</td>\n",
       "      <td>banana</td>\n",
       "    </tr>\n",
       "    <tr>\n",
       "      <th>1696</th>\n",
       "      <td>80</td>\n",
       "      <td>71</td>\n",
       "      <td>47</td>\n",
       "      <td>27</td>\n",
       "      <td>80</td>\n",
       "      <td>6</td>\n",
       "      <td>105</td>\n",
       "      <td>banana</td>\n",
       "    </tr>\n",
       "  </tbody>\n",
       "</table>\n",
       "<p>1697 rows × 8 columns</p>\n",
       "</div>"
      ],
      "text/plain": [
       "        N   P   K  temperature  humidity  ph  rainfall   label\n",
       "0      90  42  43           20        82   6       202    rice\n",
       "1      85  58  41           21        80   7       226    rice\n",
       "2      60  55  44           23        82   7       263    rice\n",
       "3      74  35  40           26        80   6       242    rice\n",
       "4      78  42  42           20        81   7       262    rice\n",
       "...   ...  ..  ..          ...       ...  ..       ...     ...\n",
       "1692  117  86  48           28        82   6       116  banana\n",
       "1693  114  94  53           26        76   6       118  banana\n",
       "1694  110  78  50           25        78   5        98  banana\n",
       "1695   94  70  48           25        84   6        91  banana\n",
       "1696   80  71  47           27        80   6       105  banana\n",
       "\n",
       "[1697 rows x 8 columns]"
      ]
     },
     "execution_count": 2,
     "metadata": {},
     "output_type": "execute_result"
    }
   ],
   "source": [
    "file_path = 'Crop_recommendation.csv'\n",
    "\n",
    "data = pd.read_csv(file_path)\n",
    "\n",
    "\n",
    "data['temperature'] = data['temperature'].astype(int)\n",
    "data['humidity'] = data['humidity'].astype(int)\n",
    "data['ph'] = data['ph'].astype(int)\n",
    "data['rainfall'] = data['rainfall'].astype(int)\n",
    "\n",
    "data"
   ]
  },
  {
   "cell_type": "code",
   "execution_count": 3,
   "metadata": {},
   "outputs": [
    {
     "name": "stdout",
     "output_type": "stream",
     "text": [
      "<class 'pandas.core.frame.DataFrame'>\n",
      "RangeIndex: 1697 entries, 0 to 1696\n",
      "Data columns (total 8 columns):\n",
      " #   Column       Non-Null Count  Dtype \n",
      "---  ------       --------------  ----- \n",
      " 0   N            1697 non-null   int64 \n",
      " 1   P            1697 non-null   int64 \n",
      " 2   K            1697 non-null   int64 \n",
      " 3   temperature  1697 non-null   int64 \n",
      " 4   humidity     1697 non-null   int64 \n",
      " 5   ph           1697 non-null   int64 \n",
      " 6   rainfall     1697 non-null   int64 \n",
      " 7   label        1697 non-null   object\n",
      "dtypes: int64(7), object(1)\n",
      "memory usage: 106.2+ KB\n",
      "Coolumns\n",
      "Index(['N', 'P', 'K', 'temperature', 'humidity', 'ph', 'rainfall', 'label'], dtype='object')\n",
      "\n",
      "label\n",
      "rice          139\n",
      "Soyabeans     130\n",
      "banana        130\n",
      "beans         125\n",
      "cowpeas       122\n",
      "orange        122\n",
      "maize         119\n",
      "coffee        110\n",
      "peas          100\n",
      "groundnuts    100\n",
      "mango         100\n",
      "grapes        100\n",
      "watermelon    100\n",
      "apple         100\n",
      "cotton        100\n",
      "Name: count, dtype: int64\n"
     ]
    }
   ],
   "source": [
    "data.info()\n",
    "\n",
    "print('Coolumns')\n",
    "print(data.columns)\n",
    "\n",
    "print('')\n",
    "print(data['label'].value_counts())"
   ]
  },
  {
   "cell_type": "code",
   "execution_count": 4,
   "metadata": {},
   "outputs": [
    {
     "name": "stdout",
     "output_type": "stream",
     "text": [
      "(1697, 7)\n"
     ]
    }
   ],
   "source": [
    "x = data.drop(columns=['label'])\n",
    "y_prime = data['label']\n",
    "\n",
    "le = LabelEncoder()\n",
    "y = le.fit_transform(y_prime)\n",
    "\n",
    "print(x.shape)\n",
    "# print(y.shape)"
   ]
  },
  {
   "cell_type": "code",
   "execution_count": 5,
   "metadata": {},
   "outputs": [],
   "source": [
    "x_train, x_test, y_train, y_test = train_test_split(x, y, test_size=0.2, random_state=17)\n",
    "\n",
    "\n",
    "crop_model = xg.XGBClassifier(\n",
    "    objective='multi:softprob',\n",
    "    n_estimators=100,\n",
    "    max_depth=5,\n",
    "    learning_rate=0.1,\n",
    "    random_state=10,\n",
    "    booster='gbtree',\n",
    "    nthread=4\n",
    ")"
   ]
  },
  {
   "cell_type": "code",
   "execution_count": 6,
   "metadata": {},
   "outputs": [],
   "source": [
    "# class CustomLabelEncoder(BaseEstimator, TransformerMixin):\n",
    "#     def __init__(self):\n",
    "#         self.encoder = LabelEncoder()\n",
    "        \n",
    "#     def fit_transform(self, x, y):\n",
    "#         self.encoder.fit(y)\n",
    "#         return self.encoder.transform(x)"
   ]
  },
  {
   "cell_type": "code",
   "execution_count": 7,
   "metadata": {},
   "outputs": [],
   "source": [
    "steps=[\n",
    "     ('model', crop_model)\n",
    "]\n",
    "\n",
    "my_pipeline = Pipeline(steps)"
   ]
  },
  {
   "cell_type": "code",
   "execution_count": 8,
   "metadata": {},
   "outputs": [
    {
     "name": "stdout",
     "output_type": "stream",
     "text": [
      "The model has an accuracy of 99.71%\n"
     ]
    }
   ],
   "source": [
    "my_pipeline.fit(x_train, y_train)\n",
    "\n",
    "crop_type = my_pipeline.predict(x_test)\n",
    "model_accuracy = 100 * my_pipeline.score(x_test, y_test)\n",
    "\n",
    "print(f'The model has an accuracy of {model_accuracy:.2f}%')"
   ]
  },
  {
   "cell_type": "code",
   "execution_count": null,
   "metadata": {},
   "outputs": [],
   "source": []
  },
  {
   "cell_type": "code",
   "execution_count": 9,
   "metadata": {},
   "outputs": [
    {
     "name": "stdout",
     "output_type": "stream",
     "text": [
      "              precision    recall  f1-score   support\n",
      "\n",
      "           0       1.00      1.00      1.00        22\n",
      "           1       1.00      1.00      1.00        10\n",
      "           2       1.00      1.00      1.00        20\n",
      "           3       1.00      1.00      1.00        27\n",
      "           4       1.00      1.00      1.00        24\n",
      "           5       0.97      1.00      0.98        29\n",
      "           6       1.00      1.00      1.00        28\n",
      "           7       1.00      1.00      1.00        30\n",
      "           8       1.00      1.00      1.00        16\n",
      "           9       1.00      0.97      0.98        29\n",
      "          10       1.00      1.00      1.00        18\n",
      "          11       1.00      1.00      1.00        21\n",
      "          12       1.00      1.00      1.00        25\n",
      "          13       1.00      1.00      1.00        27\n",
      "          14       1.00      1.00      1.00        14\n",
      "\n",
      "    accuracy                           1.00       340\n",
      "   macro avg       1.00      1.00      1.00       340\n",
      "weighted avg       1.00      1.00      1.00       340\n",
      "\n"
     ]
    }
   ],
   "source": [
    "model_report = classification_report(y_test, crop_type)\n",
    "\n",
    "print(model_report)"
   ]
  },
  {
   "cell_type": "code",
   "execution_count": 10,
   "metadata": {},
   "outputs": [
    {
     "name": "stdout",
     "output_type": "stream",
     "text": [
      "Cross validation scores\n",
      "[0.99117647 0.99705882 1.         1.         0.99410029]\n"
     ]
    }
   ],
   "source": [
    "cross_validation_scores = cross_val_score(my_pipeline, x, y, cv=5, scoring='accuracy')\n",
    "\n",
    "print('Cross validation scores')\n",
    "print(cross_validation_scores)"
   ]
  },
  {
   "cell_type": "code",
   "execution_count": 11,
   "metadata": {},
   "outputs": [
    {
     "name": "stdout",
     "output_type": "stream",
     "text": [
      "7\n"
     ]
    },
    {
     "data": {
      "text/plain": [
       "['model.pkl']"
      ]
     },
     "execution_count": 11,
     "metadata": {},
     "output_type": "execute_result"
    }
   ],
   "source": [
    "# my_pipeline.save_model('model.json')\n",
    "print(crop_model.feature_importances_.shape[0])\n",
    "\n",
    "import joblib\n",
    "\n",
    "joblib.dump(crop_model, 'model.pkl')"
   ]
  },
  {
   "cell_type": "code",
   "execution_count": 12,
   "metadata": {},
   "outputs": [],
   "source": [
    "crops = {\n",
    "    0: 'rice',\n",
    "    1: 'Soyabeans',\n",
    "    2: 'banana',\n",
    "    3: 'beans',\n",
    "    4: 'cowpeas',\n",
    "    5: 'cowpeas',\n",
    "    6: 'maize',\n",
    "    7: 'coffee',\n",
    "    8: 'peas',\n",
    "    9: 'groundnuts',\n",
    "    10: 'mango',\n",
    "    11: 'grapes',\n",
    "    12: 'watermelon',\n",
    "    13: 'apple',\n",
    "    14: 'cotton'\n",
    "}"
   ]
  },
  {
   "cell_type": "code",
   "execution_count": 16,
   "metadata": {},
   "outputs": [
    {
     "name": "stdout",
     "output_type": "stream",
     "text": [
      "Class: rice\n",
      "80.26%\n"
     ]
    }
   ],
   "source": [
    "import numpy as np\n",
    "\n",
    "vals = [[150, 52, 53, 43, 12, 6, 50]]\n",
    "# vals = [[80\t,71\t,47\t,27\t,80, 6,\t105]]\n",
    "predictions = my_pipeline.predict_proba(vals)\n",
    "\n",
    "pred_class = np.argmax(predictions)\n",
    "certinty = 100 * np.max(predictions)\n",
    "\n",
    "print(f'Class: {crops[pred_class]}')\n",
    "print(f'{certinty:.2f}%')"
   ]
  },
  {
   "cell_type": "code",
   "execution_count": null,
   "metadata": {},
   "outputs": [],
   "source": []
  },
  {
   "cell_type": "code",
   "execution_count": 14,
   "metadata": {},
   "outputs": [],
   "source": [
    "# second_class = \n",
    "model = xg.Booster().load_model('model.json')\n",
    "\n",
    "model"
   ]
  },
  {
   "cell_type": "code",
   "execution_count": 15,
   "metadata": {},
   "outputs": [
    {
     "name": "stdout",
     "output_type": "stream",
     "text": [
      "The model has an accuracy of 100.00%\n"
     ]
    }
   ],
   "source": [
    "rf_model = RandomForestClassifier()\n",
    "\n",
    "rf_model.fit(x_train, y_train)\n",
    "model_accuracy = 100 * rf_model.score(x_test, y_test)\n",
    "\n",
    "print(f'The model has an accuracy of {model_accuracy:.2f}%')"
   ]
  }
 ],
 "metadata": {
  "kernelspec": {
   "display_name": ".venv",
   "language": "python",
   "name": "python3"
  },
  "language_info": {
   "codemirror_mode": {
    "name": "ipython",
    "version": 3
   },
   "file_extension": ".py",
   "mimetype": "text/x-python",
   "name": "python",
   "nbconvert_exporter": "python",
   "pygments_lexer": "ipython3",
   "version": "3.10.12"
  }
 },
 "nbformat": 4,
 "nbformat_minor": 2
}
